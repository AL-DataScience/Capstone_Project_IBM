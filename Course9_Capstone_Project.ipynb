{
    "cells": [
        {
            "cell_type": "markdown",
            "metadata": {},
            "source": "# Capstone Project"
        },
        {
            "cell_type": "markdown",
            "metadata": {
                "collapsed": true
            },
            "source": "## Introduction/Business Problem\n\nI will be investigating potential neighborhoods to open a new startup company in Toronto, Ontario, Canada. My goal is to identify neighborhoods outside downtown Toronto with similar access to necessary amenities. This is to avoid the high cost of renting a location for a startup company.\n\n\n\n"
        },
        {
            "cell_type": "markdown",
            "metadata": {},
            "source": "## Data\n\n\n1- Scrape https://en.wikipedia.org/wiki/List_of_postal_codes_of_Canada:_M to find the list of neighborhoods in Toronto and their postal code.\n\n\n\n2- scrape https://en.wikipedia.org/wiki/List_of_neighbourhoods_in_Toronto to find the connection between neighborhoods and district numbers.\n\n\n\n3- Scrape the pricing information for each district number form http://trreb.ca/files/market-stats/home-price-index/TREB_MLS_HPI_Public_Tables_0420.pdf (April 2020 update).\n\n\n\n4- Store data in Pandas dataframe and do data cleanup and assign a district number and price to each neighborhood.\n\n\n\n5- Geolocate neighborhood postal codes and find \"lat\" and \"long\" values for each.\n\n\n\n6- Use Foursquare to explore different neighborhoods in Toronto with radius of 500 and limit of 100. \n\n\n\n7- Analyze each neighborhood and create a dataframe and display the top 20 venues for each neighborhood\n\n\n\n8- Cluster Neighborhoods and run k-means to cluster the neighborhood into 10 clusters.\n\n\n\n9- Create a new dataframe that includes original scrapped data and the clusters as well as the top 20 venues for each neighborhood.\n\n\n\n10- Visualize the dataframe using Folium mapping package\n\n\n\n11- Report on conclusions.\n\n"
        },
        {
            "cell_type": "code",
            "execution_count": 1,
            "metadata": {},
            "outputs": [],
            "source": "# import required libraries\nimport numpy as np\nimport pandas as pd"
        }
    ],
    "metadata": {
        "kernelspec": {
            "display_name": "Python 3.6",
            "language": "python",
            "name": "python3"
        },
        "language_info": {
            "codemirror_mode": {
                "name": "ipython",
                "version": 3
            },
            "file_extension": ".py",
            "mimetype": "text/x-python",
            "name": "python",
            "nbconvert_exporter": "python",
            "pygments_lexer": "ipython3",
            "version": "3.6.9"
        }
    },
    "nbformat": 4,
    "nbformat_minor": 1
}