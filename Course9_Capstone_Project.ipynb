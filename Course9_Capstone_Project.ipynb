{
    "cells": [
        {
            "cell_type": "markdown",
            "metadata": {},
            "source": "# Capstone Project"
        },
        {
            "cell_type": "markdown",
            "metadata": {
                "collapsed": true
            },
            "source": "## Introduction/Business Problem\n\nI will be investigating potential Postal Code (neighborhoods) to open a new startup company in Toronto, Ontario, Canada. My goal is to identify Postal Code (neighborhoods) outside downtown Toronto with similar access to necessary amenities. This is to avoid the high cost of renting a location for a startup company.\n\n\n\n"
        },
        {
            "cell_type": "markdown",
            "metadata": {},
            "source": "## Data\n\n\n1- Scrape https://en.wikipedia.org/wiki/List_of_postal_codes_of_Canada:_M to find the list of neighborhoods in Toronto and their postal code.\n\n\n\n2- scrape https://en.wikipedia.org/wiki/List_of_neighbourhoods_in_Toronto to find the connection between neighborhoods and district numbers.\n\n\n\n3- Get the pricing information for each district number form http://trreb.ca/files/market-stats/home-price-index/TREB_MLS_HPI_Public_Tables_0420.pdf (April 2020 update).\n\n\n\n4- Store data in Pandas dataframe and do data cleanup and assign a district number and price to each Postal Code.\n\n\n\n5- Geolocate neighborhood postal codes and find \"lat\" and \"long\" values for each.\n\n\n\n6- Use Foursquare to explore different postal codes in Toronto with radius of 500 and limit of 100. \n\n\n\n7- Analyze each Postal Code and create a dataframe and display the top 20 venues for each Postal Code.\n\n\n\n8- Cluster Postal Codes and run k-means to cluster the Postal Codes into 20 clusters.\n\n\n\n9- Create a new dataframe that includes original scrapped data and the clusters as well as the top 10 venues for each Postal Code.\n\n\n\n10- Visualize the dataframe using Folium mapping package.\n\n\n\n11- Conclusion.\n\n"
        },
        {
            "cell_type": "code",
            "execution_count": 1,
            "metadata": {},
            "outputs": [],
            "source": "# Import required libraries\n\n#Install the following if they have not been installed already by uncommenting them\n!conda install -c conda-forge beautifulsoup4 bs4 --yes\n!conda install -c conda-forge geocoder --yes\n!conda install -c conda-forge folium=0.5.0 --yes\n\nimport numpy as np \nimport pandas as pd \nimport urllib.request, urllib.parse, urllib.error # import urllib library parts needed\nimport bs4 as bs # import beautifulsoup library for web scrapping\nimport ssl # Import SSL certificatation library\nimport json # library to handle JSON files\nimport requests # library to handle requests\nfrom pandas.io.json import json_normalize # import library to tranform JSON file into a pandas dataframe\n\nimport folium # import map rendering library\nfrom sklearn.cluster import KMeans # import k-means from clustering stage\n\n\n# Matplotlib and associated plotting modules\nimport matplotlib.cm as cm\nimport matplotlib.colors as colors"
        },
        {
            "cell_type": "markdown",
            "metadata": {},
            "source": "## Scrape the following Wikipedia page to get a list of postal codes and their neighborhoods and boroughs in Toronto:\nhttps://en.wikipedia.org/wiki/List_of_postal_codes_of_Canada:_M"
        },
        {
            "cell_type": "code",
            "execution_count": null,
            "metadata": {},
            "outputs": [],
            "source": "# Ignore SSL certificate errors\nctx = ssl.create_default_context()\nctx.check_hostname = False\nctx.verify_mode = ssl.CERT_NONE\n\n\nhtml = urllib.request.urlopen('https://en.wikipedia.org/wiki/List_of_postal_codes_of_Canada:_M', context=ctx).read()\nsoup = bs.BeautifulSoup(html, 'html.parser')\n\n# Retrieve all of the table rows and put them into a pandas dataframe\nrow_list = []\ntable_rows = soup('tr')\nfor row in table_rows:\n    td = row.find_all('td')\n    row = [tr.text for tr in td]\n    row_list.append(row)\nToronto_DF = pd.DataFrame(row_list)\n\n# Process the scraped dataframe to satisfy the following requirements:\n#1- The dataframe will consist of three columns: PostalCode, Borough, and Neighborhood.  \n#2- Only process the cells that have an assigned borough. Ignore cells with a borough that is Not assigned.  \n#3- More than one neighborhood can exist in one postal code area.  \n#4- If a cell has a borough but a Not assigned neighborhood, then the neighborhood will be the same as the borough.  \n\n\n#Clean up the dataframe\n\n#Just keep required columns\nToronto_PostalCode_Neighborhood = Toronto_DF[[0,1,2]]\n\n#Rename columns\nToronto_PostalCode_Neighborhood.columns=[\"PostalCode\", \"Borough\", \"Neighborhood\"]\n\n#Remove any '\\n' in the strings\nToronto_PostalCode_Neighborhood = Toronto_PostalCode_Neighborhood.replace('\\n','', regex=True)\n\n#Drop rows that are not required\nToronto_PostalCode_Neighborhood = Toronto_PostalCode_Neighborhood.dropna()\nToronto_PostalCode_Neighborhood = Toronto_PostalCode_Neighborhood[Toronto_PostalCode_Neighborhood.Borough != 'Not assigned']\nToronto_PostalCode_Neighborhood = Toronto_PostalCode_Neighborhood[Toronto_PostalCode_Neighborhood.Borough != 'B' ]\nToronto_PostalCode_Neighborhood = Toronto_PostalCode_Neighborhood[Toronto_PostalCode_Neighborhood.Borough != 'NL']\nToronto_PostalCode_Neighborhood = Toronto_PostalCode_Neighborhood[Toronto_PostalCode_Neighborhood.Borough != 'NS']\nToronto_PostalCode_Neighborhood = Toronto_PostalCode_Neighborhood[Toronto_PostalCode_Neighborhood.Borough != 'Mississauga']\nToronto_PostalCode_Neighborhood = Toronto_PostalCode_Neighborhood[Toronto_PostalCode_Neighborhood.Neighborhood != 'Stn A PO Boxes']\n\n\n#Group rows if required\nToronto_PostalCode_Neighborhood['Neighborhood'] = Toronto_PostalCode_Neighborhood.groupby(['PostalCode','Borough'])['Neighborhood'].transform(lambda x: ','.join(x))\nToronto_PostalCode_Neighborhood = Toronto_PostalCode_Neighborhood.drop_duplicates()\n\nToronto_PostalCode_Neighborhood\n"
        },
        {
            "cell_type": "markdown",
            "metadata": {},
            "source": "## Transform the dataframe to have neighborhoods in rows\nThis is required as in the following steps we will try to assign an average price to each postal code based on its neighborhoods"
        },
        {
            "cell_type": "code",
            "execution_count": null,
            "metadata": {},
            "outputs": [],
            "source": "#Make a copy of \"Toronto_PostalCode_Neighborhood\" dataframe and call it \"Toronto_DF\"\nToronto_DF = Toronto_PostalCode_Neighborhood \n\n#create temoporary column and combine Postalcode and Borough in it\nToronto_DF[\"TEMP_CONCAT\"] = Toronto_DF[\"PostalCode\"] + \"--\" + Toronto_DF[\"Borough\"]\n\n#split the neighborhoods and put them in rows along with their coresponding temp column value\nToronto_DF = pd.concat([pd.Series(row['TEMP_CONCAT'], row['Neighborhood'].split(','))              \n                    for _, row in Toronto_DF.iterrows()]).reset_index()\n#rename the collumns\nToronto_DF.columns = [\"Neighbourhood\",\"TEMP_CONCAT\"] \n\n#split the temp column to the original Postalcode and Borough columns\nToronto_DF[['PostalCode','Borough']] = Toronto_DF.TEMP_CONCAT.str.split('--', expand=True)\n\n#drop the temp column\nToronto_DF.drop(columns=[\"TEMP_CONCAT\"], inplace=True)\n\n#remove any leading or trailing spaces from string columns\ndf_obj = Toronto_DF.select_dtypes(['object'])\nToronto_DF[df_obj.columns] = df_obj.apply(lambda x: x.str.strip())\n\nToronto_DF"
        },
        {
            "cell_type": "markdown",
            "metadata": {},
            "source": "## Scrape the following Wikipedia page to get a list MLS districts and their neighborhoods:\nhttps://en.wikipedia.org/wiki/List_of_neighbourhoods_in_Toronto#Multiple_listing_service_districts_and_neighbourhoods\n\nTo understand MLS district you can use this map:\nhttps://www.torontomls.net/Communities/map.html"
        },
        {
            "cell_type": "code",
            "execution_count": null,
            "metadata": {},
            "outputs": [],
            "source": "# Ignore SSL certificate errors\nctx = ssl.create_default_context()\nctx.check_hostname = False\nctx.verify_mode = ssl.CERT_NONE\n\n\nhtml = urllib.request.urlopen('https://en.wikipedia.org/wiki/List_of_neighbourhoods_in_Toronto#Multiple_listing_service_districts_and_neighbourhoods', context=ctx).read()\nsoup = bs.BeautifulSoup(html, 'html.parser')\n\n# Retrieve table headers and all of the table rows and put them into a pandas dataframe\n\n#Find the table\nWiki_table = soup.find(\"table\", attrs={\"class\": \"wikitable\"})\ntable_rows = Wiki_table.tbody.find_all(\"tr\")\n\n#Headers\nheader = []\nth = table_rows[0].find_all('th')\nheader.append(header)\nheader = [tr.text.rstrip() for tr in th]\n\n#rows\nrow_list = []\nfor row in table_rows:\n    td = row.find_all('td')\n    row = [tr.text.rstrip() for tr in td]\n    row_list.append(row)\nToronto_District_Neighbourhood_DF = pd.DataFrame(row_list, columns= header)\n\n#Drop rows that are not required\nToronto_District_Neighbourhood_DF = Toronto_District_Neighbourhood_DF.dropna()\n\n\n\n\nToronto_District_Neighbourhood_DF = pd.concat([pd.Series(row['District Number'], row['Neighbourhoods Included'].split(','))              \n                    for _, row in Toronto_District_Neighbourhood_DF.iterrows()]).reset_index()\n\nToronto_District_Neighbourhood_DF.columns = [\"Neighbourhood\",\"District Number\"] \n\nToronto_District_Neighbourhood_DF['Neighbourhood'] = Toronto_District_Neighbourhood_DF['Neighbourhood'].map(lambda x: x.strip())\n\n\nToronto_District_Neighbourhood_DF"
        },
        {
            "cell_type": "markdown",
            "metadata": {},
            "source": "## Get the housing composite benchmark prices for each district from the following page as of April 2020:\nhttp://trreb.ca/files/market-stats/home-price-index/TREB_MLS_HPI_Public_Tables_0420.pdf\n\n### Composite Price Benchmark:  \nBenchmarks and indices within the \u201cComposite\u201d category represents all homes used in models,\nincluding One- and Two-storey single family homes, Townhouses and Apartments. Accordingly, the\nComposite index includes both attached and detached homes within One- and Two-storey single family\nhomes."
        },
        {
            "cell_type": "code",
            "execution_count": null,
            "metadata": {},
            "outputs": [],
            "source": "#It was not possible to scrape the PDF directly, a text file manually created from the PDF and used to import the values\nToronto_District_Price_DF = pd.read_csv('Price.txt', sep=\",,,\", header=0)\n\nToronto_District_Price_DF = Toronto_District_Price_DF.iloc[:,0:3:2]\n\n#Remove any ',' in the strings\nToronto_District_Price_DF = Toronto_District_Price_DF.replace(',','', regex=True)\n\n#Convert the type of column \"Composite Price Benchmark\" to numeric \nToronto_District_Price_DF['Composite Price Benchmark'] = Toronto_District_Price_DF['Composite Price Benchmark'].astype('int64') \n\n\nToronto_District_Price_DF"
        },
        {
            "cell_type": "markdown",
            "metadata": {},
            "source": "## Link MLS districts and their neighborhoods to the prices\nFrom here forward, we will assume that each neighborhood in a district has the same price as that district."
        },
        {
            "cell_type": "code",
            "execution_count": null,
            "metadata": {},
            "outputs": [],
            "source": "#Join \"MLS districts and their neighborhoods\" to \"districts housing composite benchmark prices\" based on District Number\nToronto_District_Neighbourhood_Price_DF = Toronto_District_Neighbourhood_DF.join(Toronto_District_Price_DF.set_index('District Number'), on='District Number')\n\nToronto_District_Neighbourhood_Price_DF"
        },
        {
            "cell_type": "markdown",
            "metadata": {},
            "source": "## Having a price for each neighborhood, we can find an average price for each Postal code as we have the neighborhood information per Postal code as well"
        },
        {
            "cell_type": "code",
            "execution_count": null,
            "metadata": {},
            "outputs": [],
            "source": "#Join \"MLS districts and their neighborhoods with assigned prices\" to \"Toronto_DF\" based on Neighbourhood\nToronto_Neighborhood_District_Price_PostalCode_DF = Toronto_DF.join(Toronto_District_Neighbourhood_Price_DF.set_index('Neighbourhood'), on='Neighbourhood')\n\n#Drop rows with no price\nToronto_Neighborhood_District_Price_PostalCode_DF = Toronto_Neighborhood_District_Price_PostalCode_DF.dropna()\n\n#Sort rows based on PostalCode column\nToronto_Neighborhood_District_Price_PostalCode_DF.sort_values(['PostalCode'])\n\n# Find Average Price for each postal code\nToronto_AveragePrice_Per_PostalCode = Toronto_Neighborhood_District_Price_PostalCode_DF.groupby('PostalCode')['Composite Price Benchmark'].mean().reset_index()\nToronto_AveragePrice_Per_PostalCode "
        },
        {
            "cell_type": "markdown",
            "metadata": {},
            "source": "## Join these prices to the initial \"Toronto_PostalCode_Neighborhood\" dataframe"
        },
        {
            "cell_type": "code",
            "execution_count": null,
            "metadata": {},
            "outputs": [],
            "source": "#Join \"Toronto_PostalCode_Neighborhood\" to \"Toronto_AveragePrice_Per_PostalCode\" based on Postalcode\nToronto_PostalCode_Neighborhood_Price = Toronto_PostalCode_Neighborhood.join(Toronto_AveragePrice_Per_PostalCode.set_index('PostalCode'), on='PostalCode')\n\nToronto_PostalCode_Neighborhood_Price"
        },
        {
            "cell_type": "markdown",
            "metadata": {},
            "source": "## Get the latitude and the longitude coordinates of each postal code, using geocoder:"
        },
        {
            "cell_type": "code",
            "execution_count": null,
            "metadata": {},
            "outputs": [],
            "source": "# import geocoder\nimport geocoder \n\n# Define a function to convert PostalCode to lat and Long\ndef Postal_Code_to_LatLong(postal_code):\n    \n # initialize your variable to None\n lat_lng_coords = None\n    \n    \n# Loop until you get the coordinates\n while(lat_lng_coords is None):\n     g = geocoder.arcgis('{}, Toronto, Ontario'.format(postal_code))\n     lat_lng_coords = g.latlng\n return lat_lng_coords\n\n# Use the defined function to add latitude and longitude for each postal code\nToronto_PostalCode_Neighborhood_Price[['Latitude', 'Longitude']] =  pd.DataFrame(Toronto_PostalCode_Neighborhood_Price['PostalCode'].apply(Postal_Code_to_LatLong).to_list(), index=Toronto_PostalCode_Neighborhood_Price.index)\n\nToronto_PostalCode_Neighborhood_Price"
        },
        {
            "cell_type": "markdown",
            "metadata": {},
            "source": "## Define Foursquare Credentials and Version:"
        },
        {
            "cell_type": "code",
            "execution_count": null,
            "metadata": {},
            "outputs": [],
            "source": "CLIENT_ID = '' # your Foursquare ID\nCLIENT_SECRET = '' # your Foursquare Secret\nVERSION = '20180605' # Foursquare API version"
        },
        {
            "cell_type": "code",
            "execution_count": null,
            "metadata": {},
            "outputs": [],
            "source": "# The code was removed by Watson Studio for sharing."
        },
        {
            "cell_type": "markdown",
            "metadata": {},
            "source": "## Create a function to get nearby venues for each PostalCode:"
        },
        {
            "cell_type": "code",
            "execution_count": null,
            "metadata": {},
            "outputs": [],
            "source": "def getNearbyVenues(PostalCode, latitudes, longitudes, radius=500, LIMIT = 100):\n    \n    venues_list=[]\n    for PostalCode, lat, lng in zip(PostalCode, latitudes, longitudes):\n                    \n        # create the API request URL\n        url = 'https://api.foursquare.com/v2/venues/explore?&client_id={}&client_secret={}&v={}&ll={},{}&radius={}&limit={}'.format(\n            CLIENT_ID, \n            CLIENT_SECRET, \n            VERSION, \n            lat, \n            lng, \n            radius, \n            LIMIT)\n            \n        # make the GET request\n        results = requests.get(url).json()[\"response\"]['groups'][0]['items']\n        \n        # return only relevant information for each nearby venue\n        venues_list.append([(\n            PostalCode, \n            lat, \n            lng, \n            v['venue']['name'], \n            v['venue']['location']['lat'], \n            v['venue']['location']['lng'],  \n            v['venue']['categories'][0]['name']) for v in results])\n\n    nearby_venues = pd.DataFrame([item for venue_list in venues_list for item in venue_list])\n    nearby_venues.columns = ['PostalCode', \n                  'PostalCode Latitude', \n                  'PostalCode Longitude', \n                  'Venue', \n                  'Venue Latitude', \n                  'Venue Longitude', \n                  'Venue Category']\n    \n    return(nearby_venues)"
        },
        {
            "cell_type": "markdown",
            "metadata": {},
            "source": "## Run the above function on each PostalCode in Toronto and create a new dataframe called \"toronto_venues\":"
        },
        {
            "cell_type": "code",
            "execution_count": null,
            "metadata": {},
            "outputs": [],
            "source": "toronto_venues = getNearbyVenues(PostalCode=Toronto_PostalCode_Neighborhood_Price['PostalCode'],\n                                   latitudes=Toronto_PostalCode_Neighborhood_Price['Latitude'],\n                                   longitudes=Toronto_PostalCode_Neighborhood_Price['Longitude']\n                                  )\n\n#remove the row with venue category identified as 'Neighborhood' because it causes issues in the next steps\ntoronto_venues = toronto_venues[toronto_venues['Venue Category'] != 'Neighborhood' ]\n\n#check the size of the resulting dataframe\nprint(toronto_venues.shape)\ntoronto_venues.head()"
        },
        {
            "cell_type": "markdown",
            "metadata": {},
            "source": "## Analyze each record for Venue Categories by using one-hot encoding (dummy categories):"
        },
        {
            "cell_type": "code",
            "execution_count": null,
            "metadata": {},
            "outputs": [],
            "source": "# one hot encoding\ntoronto_onehot = pd.get_dummies(toronto_venues[['Venue Category']], prefix=\"\", prefix_sep=\"\")\n\n\n# add neighborhood column back to dataframe\ntoronto_onehot['PostalCode'] = toronto_venues['PostalCode'] \n\n# move neighborhood column to the first column\nfixed_columns = [toronto_onehot.columns[-1]] + list(toronto_onehot.columns[:-1])\ntoronto_onehot = toronto_onehot[fixed_columns]\n\n\ntoronto_onehot"
        },
        {
            "cell_type": "markdown",
            "metadata": {},
            "source": "## Aggregate records at PostalCode level by taking the mean of the frequency of occurrence of each venue category:"
        },
        {
            "cell_type": "code",
            "execution_count": null,
            "metadata": {},
            "outputs": [],
            "source": "toronto_grouped = toronto_onehot.groupby('PostalCode').mean().reset_index()\ntoronto_grouped"
        },
        {
            "cell_type": "markdown",
            "metadata": {},
            "source": "## Function to sort the Venue Categories in descending order for each Postal Code based on mean frequencies calculated:"
        },
        {
            "cell_type": "code",
            "execution_count": null,
            "metadata": {},
            "outputs": [],
            "source": "def return_most_common_venues(row, num_top_venues):\n    row_categories = row.iloc[1:]\n    row_categories_sorted = row_categories.sort_values(ascending=False)\n    \n    return row_categories_sorted.index.values[0:num_top_venues]"
        },
        {
            "cell_type": "markdown",
            "metadata": {},
            "source": "## Create a new dataframe and display the top 10 venue categories for each PostalCode (Using the above function):"
        },
        {
            "cell_type": "code",
            "execution_count": null,
            "metadata": {},
            "outputs": [],
            "source": "num_top_venues = 10\n\nindicators = ['st', 'nd', 'rd']\n\n# create columns according to number of top venues\ncolumns = ['PostalCode']\nfor ind in np.arange(num_top_venues):\n    try:\n        columns.append('{}{} Most Common Venue Category'.format(ind+1, indicators[ind]))\n    except:\n        columns.append('{}th Most Common Venue Category'.format(ind+1))\n\n# create a new dataframe\nPostalCode_Venue_Category_Sorted = pd.DataFrame(columns=columns)\n# Add PostalCode Column to the new dataframe\nPostalCode_Venue_Category_Sorted['PostalCode'] = toronto_grouped['PostalCode']\n\nfor ind in np.arange(toronto_grouped.shape[0]):\n    PostalCode_Venue_Category_Sorted.iloc[ind, 1:] = return_most_common_venues(toronto_grouped.iloc[ind, :], num_top_venues)\n\nPostalCode_Venue_Category_Sorted.head()"
        },
        {
            "cell_type": "markdown",
            "metadata": {},
            "source": "## Cluster PostalCodes, run k-means to cluster the Postalcodes into 20 clusters:"
        },
        {
            "cell_type": "code",
            "execution_count": null,
            "metadata": {},
            "outputs": [],
            "source": "# set number of clusters\nkclusters = 20\n\ntoronto_grouped_clustering = toronto_grouped.drop('PostalCode', 1)\n\n# run k-means clustering\nkmeans = KMeans(n_clusters=kclusters, random_state=0).fit(toronto_grouped_clustering)\n\n# check cluster labels generated for each row in the dataframe\nkmeans.labels_[0:10]"
        },
        {
            "cell_type": "markdown",
            "metadata": {},
            "source": "## Create a new dataframe that includes the cluster as well as the top 10 venues for each PostalCode:"
        },
        {
            "cell_type": "code",
            "execution_count": null,
            "metadata": {},
            "outputs": [],
            "source": "# add clustering labels\nPostalCode_Venue_Category_Sorted.insert(0, 'Cluster Labels', kmeans.labels_)\n\ntoronto_merged = Toronto_PostalCode_Neighborhood_Price\n\n# merge toronto_grouped with toronto_data to add latitude/longitude for each neighborhood\ntoronto_merged = toronto_merged.join(PostalCode_Venue_Category_Sorted.set_index('PostalCode'), on='PostalCode')\n\n#Drop any Postalcode which was not ranked properly\ntoronto_merged.dropna(inplace=True)\n\ntoronto_merged"
        },
        {
            "cell_type": "markdown",
            "metadata": {},
            "source": "## Visualize the resulting clusters:"
        },
        {
            "cell_type": "code",
            "execution_count": null,
            "metadata": {},
            "outputs": [],
            "source": "# Get the latitude and longitude values of Toronto City\naddress = 'Toronto, ON, Canada'\nlocation = geocoder.arcgis(address)\nlat_lng_coords = location.latlng\nlatitude = lat_lng_coords[0]\nlongitude = lat_lng_coords[1]\n\n# create map\nmap_clusters = folium.Map(location=[latitude, longitude], zoom_start=11)\n\n# set color scheme for the clusters\nx = np.arange(kclusters)\nys = [i + x + (i*x)**2 for i in range(kclusters)]\ncolors_array = cm.rainbow(np.linspace(0, 1, len(ys)))\nrainbow = [colors.rgb2hex(i) for i in colors_array]\n\n# add markers to the map\nmarkers_colors = []\nfor lat, lon, pc, poi, price, cluster in zip(toronto_merged['Latitude'], toronto_merged['Longitude'], toronto_merged['PostalCode'],toronto_merged['Neighborhood'],toronto_merged['Composite Price Benchmark'], toronto_merged['Cluster Labels']):\n    label = folium.Popup(str(pc) + ' (' + str(poi) + ')' + ' Price ' + str(price) + ' Cluster ' + str(cluster), parse_html=True)\n    folium.CircleMarker(\n        [lat, lon],\n        radius= price/100000,\n        popup=label,\n        color=rainbow[int(cluster)-1],\n        fill=True,\n        fill_color=rainbow[int(cluster)-1],\n        fill_opacity=0.7).add_to(map_clusters)\n       \nmap_clusters"
        },
        {
            "cell_type": "markdown",
            "metadata": {},
            "source": "## Conclusion\n\nBased on this simple analysis there are many areas in the City of Toronto with access to similar amenities as downtown area. The analysis is also illustrating that midtown area is more expensive than downtown area but uptown area has similar housing prices for locations with similar clustering. "
        }
    ],
    "metadata": {
        "kernelspec": {
            "display_name": "Python 3.6",
            "language": "python",
            "name": "python3"
        },
        "language_info": {
            "codemirror_mode": {
                "name": "ipython",
                "version": 3
            },
            "file_extension": ".py",
            "mimetype": "text/x-python",
            "name": "python",
            "nbconvert_exporter": "python",
            "pygments_lexer": "ipython3",
            "version": "3.6.9"
        }
    },
    "nbformat": 4,
    "nbformat_minor": 1
}