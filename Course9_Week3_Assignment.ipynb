{
    "cells": [
        {
            "cell_type": "code",
            "execution_count": 1,
            "metadata": {},
            "outputs": [],
            "source": "# Import required libraries\n\nimport urllib.request, urllib.parse, urllib.error\nimport bs4 as bs\nimport ssl\nimport numpy as np \nimport pandas as pd \n"
        },
        {
            "cell_type": "markdown",
            "metadata": {},
            "source": "Use the Notebook to build the code to scrape the following Wikipedia page: https://en.wikipedia.org/wiki/List_of_postal_codes_of_Canada:_M "
        },
        {
            "cell_type": "code",
            "execution_count": 25,
            "metadata": {},
            "outputs": [],
            "source": "\n# Ignore SSL certificate errors\nctx = ssl.create_default_context()\nctx.check_hostname = False\nctx.verify_mode = ssl.CERT_NONE\n\n\nhtml = urllib.request.urlopen('https://en.wikipedia.org/wiki/List_of_postal_codes_of_Canada:_M', context=ctx).read()\nsoup = bs.BeautifulSoup(html, 'html.parser')\n\n# Retrieve all of the table rows and put them into a pandas dataframe\nrow_list = []\ntable_rows = soup('tr')\nfor row in table_rows:\n    td = row.find_all('td')\n    row = [tr.text for tr in td]\n    row_list.append(row)\nToronto_DF = pd.DataFrame(row_list)\n\n"
        },
        {
            "cell_type": "markdown",
            "metadata": {},
            "source": "Process the scraped dataframe to satisfy the following requirements:\n\n1- The dataframe will consist of three columns: PostalCode, Borough, and Neighborhood.  \n2- Only process the cells that have an assigned borough. Ignore cells with a borough that is Not assigned.  \n3- More than one neighborhood can exist in one postal code area.   \n4- If a cell has a borough but a Not assigned neighborhood, then the neighborhood will be the same as the borough.  \n5- Use the .shape method to print the number of rows of your dataframe."
        },
        {
            "cell_type": "code",
            "execution_count": 26,
            "metadata": {},
            "outputs": [
                {
                    "data": {
                        "text/plain": "(103, 3)"
                    },
                    "execution_count": 26,
                    "metadata": {},
                    "output_type": "execute_result"
                }
            ],
            "source": "#Clean up the dataframe\n\n#Just keep required columns\nToronto_DF = Toronto_DF[[0,1,2]]\n\n#Rename columns\nToronto_DF.columns=[\"PostalCode\", \"Borough\", \"Neighborhood\"]\n\n#Remove any '\\n' in the strings\nToronto_DF = Toronto_DF.replace('\\n','', regex=True)\n\n#Drop rows that are not required\nToronto_DF = Toronto_DF.dropna()\nToronto_DF = Toronto_DF[Toronto_DF.Borough != 'Not assigned']\nToronto_DF = Toronto_DF[Toronto_DF.Borough != 'B' ]\nToronto_DF = Toronto_DF[Toronto_DF.Borough != 'NL']\nToronto_DF = Toronto_DF[Toronto_DF.Borough != 'NS']\n\n#Group rows if required\nToronto_DF['Neighborhood'] = Toronto_DF.groupby(['PostalCode','Borough'])['Neighborhood'].transform(lambda x: ','.join(x))\nToronto_DF = Toronto_DF.drop_duplicates()\n\nToronto_DF.shape"
        },
        {
            "cell_type": "code",
            "execution_count": null,
            "metadata": {},
            "outputs": [],
            "source": ""
        }
    ],
    "metadata": {
        "kernelspec": {
            "display_name": "Python 3.6",
            "language": "python",
            "name": "python3"
        },
        "language_info": {
            "codemirror_mode": {
                "name": "ipython",
                "version": 3
            },
            "file_extension": ".py",
            "mimetype": "text/x-python",
            "name": "python",
            "nbconvert_exporter": "python",
            "pygments_lexer": "ipython3",
            "version": "3.6.9"
        }
    },
    "nbformat": 4,
    "nbformat_minor": 1
}